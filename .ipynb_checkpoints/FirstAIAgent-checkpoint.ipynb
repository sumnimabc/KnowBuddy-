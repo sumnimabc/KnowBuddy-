{
 "cells": [
  {
   "cell_type": "code",
   "execution_count": 1,
   "id": "e73284ca-54b6-4e02-bad3-4c19d24cd4e1",
   "metadata": {},
   "outputs": [
    {
     "ename": "NameError",
     "evalue": "name 'hi' is not defined",
     "output_type": "error",
     "traceback": [
      "\u001b[31m---------------------------------------------------------------------------\u001b[39m",
      "\u001b[31mNameError\u001b[39m                                 Traceback (most recent call last)",
      "\u001b[36mCell\u001b[39m\u001b[36m \u001b[39m\u001b[32mIn[1]\u001b[39m\u001b[32m, line 1\u001b[39m\n\u001b[32m----> \u001b[39m\u001b[32m1\u001b[39m \u001b[43mhi\u001b[49m\n",
      "\u001b[31mNameError\u001b[39m: name 'hi' is not defined"
     ]
    }
   ],
   "source": [
    "hi\n"
   ]
  },
  {
   "cell_type": "code",
   "execution_count": 3,
   "id": "243338c6-3c69-43a2-9c09-741ff76c775b",
   "metadata": {},
   "outputs": [
    {
     "ename": "NameError",
     "evalue": "name 'python' is not defined",
     "output_type": "error",
     "traceback": [
      "\u001b[31m---------------------------------------------------------------------------\u001b[39m",
      "\u001b[31mNameError\u001b[39m                                 Traceback (most recent call last)",
      "\u001b[36mCell\u001b[39m\u001b[36m \u001b[39m\u001b[32mIn[3]\u001b[39m\u001b[32m, line 1\u001b[39m\n\u001b[32m----> \u001b[39m\u001b[32m1\u001b[39m \u001b[43mpython\u001b[49m -LangChain.py\n",
      "\u001b[31mNameError\u001b[39m: name 'python' is not defined"
     ]
    }
   ],
   "source": [
    "python -LangChain.py\n"
   ]
  },
  {
   "cell_type": "code",
   "execution_count": null,
   "id": "0a56b7c3-788f-4aaa-bafe-b11802f05615",
   "metadata": {},
   "outputs": [],
   "source": [
    "yes please"
   ]
  },
  {
   "cell_type": "code",
   "execution_count": null,
   "id": "f159ec11-d77a-4877-911d-fed2db98639b",
   "metadata": {},
   "outputs": [],
   "source": [
    "is it going to rain?"
   ]
  },
  {
   "cell_type": "code",
   "execution_count": 4,
   "id": "70fc1911-1e7f-483c-9f93-352ba0fbde75",
   "metadata": {},
   "outputs": [
    {
     "name": "stdout",
     "output_type": "stream",
     "text": [
      "================================\u001b[1m Human Message \u001b[0m=================================\n",
      "\n",
      "hi im Sumi! and i live in sf\n",
      "==================================\u001b[1m Ai Message \u001b[0m==================================\n",
      "\n",
      "Hello Sumi! Nice to meet you. I see you're from San Francisco. Is there anything specific about San Francisco that you'd like to know more about? Perhaps local events, attractions, or information about the city? I'd be happy to help you find information using my search capabilities.\n",
      "================================\u001b[1m Human Message \u001b[0m=================================\n",
      "\n",
      "whats the weather where I live?\n",
      "==================================\u001b[1m Ai Message \u001b[0m==================================\n",
      "\n",
      "[{'text': \"I'd be happy to check the current weather in San Francisco for you, Sumi. Let me search for that information right now.\", 'type': 'text'}, {'id': 'toolu_01PAzb6KeLCgQTrbdZkwpKSH', 'input': {'query': 'current weather in San Francisco CA'}, 'name': 'tavily_search_results_json', 'type': 'tool_use'}]\n",
      "Tool Calls:\n",
      "  tavily_search_results_json (toolu_01PAzb6KeLCgQTrbdZkwpKSH)\n",
      " Call ID: toolu_01PAzb6KeLCgQTrbdZkwpKSH\n",
      "  Args:\n",
      "    query: current weather in San Francisco CA\n",
      "=================================\u001b[1m Tool Message \u001b[0m=================================\n",
      "Name: tavily_search_results_json\n",
      "\n",
      "[{\"title\": \"San Francisco weather in April 2025 | Weather25.com\", \"url\": \"https://www.weather25.com/north-america/usa/california/san-francisco?page=month&month=April\", \"content\": \"| Sun | Mon | Tue | Wed | Thu | Fri | Sat |\\n| --- | --- | --- | --- | --- | --- | --- |\\n| \\n | \\n| 1  53° /48° | 2  53° /46° | 3  53° /46° | 4  62° /48° | 5  64° /53° |\\n| 6  57° /51° | 7  59° /50° | 8  60° /50° | 9  64° /53° | 10  64° /55° | 11  59° /53° | 12  55° /48° |\\n| 13  59° /46° | 14  59° /48° | 15  60° /48° | 16  62° /48° | 17  60° /48° | 18  60° /50° | 19  60° /50° |\\n| 20  60° /48° | 21  62° /50° | 22  62° /50° | 23  62° /50° | 24  62° /50° | 25  60° /50° | 26  64° /50° | [...] | January | 59° / 44° | 4 | 27 | 0 | 2.48 in | \\nGood\\n| San Francisco in January |\\n| February | 60° / 44° | 4 | 24 | 0 | 2.4 in | \\nGood\\n| San Francisco in February |\\n| March | 62° / 46° | 5 | 26 | 0 | 2.44 in | \\nGood\\n| San Francisco in March |\\n| April | 64° / 48° | 2 | 28 | 0 | 0.87 in | \\nGood\\n| San Francisco in April |\\n| May | 68° / 50° | 1 | 30 | 0 | 0.51 in | \\nGood\\n| San Francisco in May |\\n| June | 73° / 53° | 0 | 30 | 0 | 0.24 in | \\nPerfect\\n| San Francisco in June | [...] | 27  66° /50° | 28  66° /51° | 29  64° /51° | 30  62° /50° | \\n| \\n| \\n|\\nClick on a day for an hourly weather forecast\\nExplore the weather in San Francisco in other months\\n01 January02 February03 March04 April05 May06 June07 July08 August09 September10 October11 November12 December\\nSan Francisco annual weather\\n| Month | Temperatures | Rainy Days | Dry Days | Snowy Days | Rainfall | Weather | More details |\\n| --- | --- | --- | --- | --- | --- | --- | --- |\", \"score\": 0.8127637}, {\"title\": \"Weather in San Francisco, CA\", \"url\": \"https://www.weatherapi.com/\", \"content\": \"{'location': {'name': 'San Francisco', 'region': 'California', 'country': 'United States of America', 'lat': 37.775, 'lon': -122.4183, 'tz_id': 'America/Los_Angeles', 'localtime_epoch': 1743884540, 'localtime': '2025-04-05 13:22'}, 'current': {'last_updated_epoch': 1743884100, 'last_updated': '2025-04-05 13:15', 'temp_c': 14.0, 'temp_f': 57.2, 'is_day': 1, 'condition': {'text': 'Mist', 'icon': '//cdn.weatherapi.com/weather/64x64/day/143.png', 'code': 1030}, 'wind_mph': 2.7, 'wind_kph': 4.3, 'wind_degree': 271, 'wind_dir': 'W', 'pressure_mb': 1027.0, 'pressure_in': 30.33, 'precip_mm': 0.0, 'precip_in': 0.0, 'humidity': 88, 'cloud': 25, 'feelslike_c': 14.5, 'feelslike_f': 58.0, 'windchill_c': 10.5, 'windchill_f': 50.8, 'heatindex_c': 11.0, 'heatindex_f': 51.8, 'dewpoint_c': 9.9, 'dewpoint_f': 49.7, 'vis_km': 9.7, 'vis_miles': 6.0, 'uv': 6.2, 'gust_mph': 3.5, 'gust_kph': 5.6}}\", \"score\": 0.727888}]\n",
      "==================================\u001b[1m Ai Message \u001b[0m==================================\n",
      "\n",
      "Based on my search, here's the current weather in San Francisco:\n",
      "\n",
      "As of April 5, 2025 (1:15 PM):\n",
      "- Temperature: 57.2°F (14°C)\n",
      "- Condition: Misty\n",
      "- Humidity: 88%\n",
      "- Wind: 2.7 mph (4.3 km/h) from the west\n",
      "- Visibility: 6 miles\n",
      "- Pressure: 30.33 inches (1027 mb)\n",
      "- No precipitation currently\n",
      "\n",
      "The day's high is expected to be around 64°F with a low of 53°F. Overall, it's a mild day with some mist in San Francisco right now. Would you like to know anything else about the weather or other information about SF?\n"
     ]
    }
   ],
   "source": [
    "%run LangChain.py"
   ]
  }
 ],
 "metadata": {
  "kernelspec": {
   "display_name": "Python 3 (ipykernel)",
   "language": "python",
   "name": "python3"
  },
  "language_info": {
   "codemirror_mode": {
    "name": "ipython",
    "version": 3
   },
   "file_extension": ".py",
   "mimetype": "text/x-python",
   "name": "python",
   "nbconvert_exporter": "python",
   "pygments_lexer": "ipython3",
   "version": "3.13.2"
  }
 },
 "nbformat": 4,
 "nbformat_minor": 5
}
